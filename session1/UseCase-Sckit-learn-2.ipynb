{
 "cells": [
  {
   "cell_type": "markdown",
   "metadata": {},
   "source": [
    "# 지도학습 (Classification)\n",
    "# SVM (Support Vector Machine)\n"
   ]
  },
  {
   "cell_type": "markdown",
   "metadata": {},
   "source": [
    "# 1. 라이브러리 import"
   ]
  },
  {
   "cell_type": "code",
   "execution_count": 1,
   "metadata": {
    "scrolled": false
   },
   "outputs": [],
   "source": [
    "from sklearn import svm, metrics\n",
    "from sklearn.model_selection import train_test_split\n",
    "import matplotlib.pyplot as plt\n",
    "import pandas as pd\n"
   ]
  },
  {
   "cell_type": "markdown",
   "metadata": {},
   "source": [
    "# 2. 데이터 불러오기"
   ]
  },
  {
   "cell_type": "code",
   "execution_count": 2,
   "metadata": {},
   "outputs": [
    {
     "name": "stdout",
     "output_type": "stream",
     "text": [
      "   height  weight   label\n",
      "0     140      45  normal\n",
      "1     145      72     fat\n",
      "2     150      61     fat\n",
      "3     137      56     fat\n",
      "4     192      48    thin\n"
     ]
    }
   ],
   "source": [
    "# 키와 몸무게 데이터 읽어 들이기 --- (※1)\n",
    "tbl = pd.read_csv(\"../dataset/bmi.csv\")\n",
    "print(tbl.head())"
   ]
  },
  {
   "cell_type": "markdown",
   "metadata": {},
   "source": [
    "# 3. 데이터 정제"
   ]
  },
  {
   "cell_type": "code",
   "execution_count": 3,
   "metadata": {},
   "outputs": [
    {
     "name": "stdout",
     "output_type": "stream",
     "text": [
      "0    normal\n",
      "1       fat\n",
      "2       fat\n",
      "Name: label, dtype: object\n",
      "0    0.45\n",
      "1    0.72\n",
      "2    0.61\n",
      "Name: weight, dtype: float64\n",
      "0    0.700\n",
      "1    0.725\n",
      "2    0.750\n",
      "Name: height, dtype: float64\n"
     ]
    }
   ],
   "source": [
    "# 칼럼(열)을 자르고 정규화하기 --- (※2)\n",
    "label = tbl[\"label\"] #컬럼 label에 담기\n",
    "print(label.head(3))\n",
    "w = tbl[\"weight\"] / 100       # 최대 100kg라고 가정   #데이터마다 높낮이 (ex 0~1, 0~ 100, 0~ 1000 )다르니 /100 해준다 \n",
    "print(w.head(3))\n",
    "h = tbl[\"height\"] / 200     # 최대 200cm라고 가정\n",
    "print(h.head(3))"
   ]
  },
  {
   "cell_type": "code",
   "execution_count": 4,
   "metadata": {},
   "outputs": [
    {
     "name": "stdout",
     "output_type": "stream",
     "text": [
      "   weight  height\n",
      "0    0.45   0.700\n",
      "1    0.72   0.725\n",
      "2    0.61   0.750\n",
      "3    0.56   0.685\n",
      "4    0.48   0.960\n"
     ]
    }
   ],
   "source": [
    "wh = pd.concat([w, h] , axis=1) #feature다. 특색 특징 이걸로 예측할거다 #axis 가로로 붙이겠다~\n",
    "print(wh.head())"
   ]
  },
  {
   "cell_type": "markdown",
   "metadata": {},
   "source": [
    "# 4. 데이터 분리\n",
    "#70% 답지, 피쳐\n",
    "#30% 피쳐만 갖고 "
   ]
  },
  {
   "cell_type": "code",
   "execution_count": 5,
   "metadata": {
    "scrolled": true
   },
   "outputs": [
    {
     "data": {
      "text/html": [
       "<div>\n",
       "<style scoped>\n",
       "    .dataframe tbody tr th:only-of-type {\n",
       "        vertical-align: middle;\n",
       "    }\n",
       "\n",
       "    .dataframe tbody tr th {\n",
       "        vertical-align: top;\n",
       "    }\n",
       "\n",
       "    .dataframe thead th {\n",
       "        text-align: right;\n",
       "    }\n",
       "</style>\n",
       "<table border=\"1\" class=\"dataframe\">\n",
       "  <thead>\n",
       "    <tr style=\"text-align: right;\">\n",
       "      <th></th>\n",
       "      <th>weight</th>\n",
       "      <th>height</th>\n",
       "    </tr>\n",
       "  </thead>\n",
       "  <tbody>\n",
       "    <tr>\n",
       "      <th>10928</th>\n",
       "      <td>0.71</td>\n",
       "      <td>0.885</td>\n",
       "    </tr>\n",
       "    <tr>\n",
       "      <th>18865</th>\n",
       "      <td>0.70</td>\n",
       "      <td>0.720</td>\n",
       "    </tr>\n",
       "    <tr>\n",
       "      <th>13436</th>\n",
       "      <td>0.60</td>\n",
       "      <td>0.985</td>\n",
       "    </tr>\n",
       "    <tr>\n",
       "      <th>2801</th>\n",
       "      <td>0.80</td>\n",
       "      <td>0.640</td>\n",
       "    </tr>\n",
       "    <tr>\n",
       "      <th>15853</th>\n",
       "      <td>0.40</td>\n",
       "      <td>0.700</td>\n",
       "    </tr>\n",
       "  </tbody>\n",
       "</table>\n",
       "</div>"
      ],
      "text/plain": [
       "       weight  height\n",
       "10928    0.71   0.885\n",
       "18865    0.70   0.720\n",
       "13436    0.60   0.985\n",
       "2801     0.80   0.640\n",
       "15853    0.40   0.700"
      ]
     },
     "execution_count": 5,
     "metadata": {},
     "output_type": "execute_result"
    }
   ],
   "source": [
    "# 학습 전용 데이터와 테스트 전용 데이터로 나누기 --- (※3)\n",
    "# 이런함수가 있다. \n",
    " #len 문자열 길이\n",
    "# data_train  트레인할 데이터 피쳐,\n",
    "#label_train 70% 답지 과거로 인한 답\n",
    "#label_test  30% 실제 답지. 미래 예측! \n",
    "\n",
    "# wh - > feature다\n",
    "# label -> answer\n",
    "\n",
    "# test_size = 0.3  30%로 하겠다!\n",
    "# 2만개중 학습전용 데이터70 % 14000개,  테스트 전용 데이터 30% 6000개  랜덤하게 나눔\n",
    "# 70 % , 30%\n",
    "\n",
    "# train_test_split 함수. 앞에 4개 변수는 임의 지정\n",
    "\n",
    "train_data_feature, test_data_feafure, train_data_answer, test_data_answer = train_test_split(wh, label, test_size = 0.3)\n",
    "train_data_feature.head()\n",
    "\n",
    "# print(wh.head(3) )\n",
    "# print(\"wh len:\", len(wh) )"
   ]
  },
  {
   "cell_type": "code",
   "execution_count": 8,
   "metadata": {},
   "outputs": [],
   "source": [
    "test_data_feafure.to_csv(\"d:/test.csv\") # 이건 csv로 만들어서 안에 데이터 보려고 만든것 "
   ]
  },
  {
   "cell_type": "markdown",
   "metadata": {},
   "source": [
    "# 5. 학습 및 예측"
   ]
  },
  {
   "cell_type": "code",
   "execution_count": 9,
   "metadata": {},
   "outputs": [
    {
     "name": "stdout",
     "output_type": "stream",
     "text": [
      "6000\n"
     ]
    },
    {
     "data": {
      "text/html": [
       "<div>\n",
       "<style scoped>\n",
       "    .dataframe tbody tr th:only-of-type {\n",
       "        vertical-align: middle;\n",
       "    }\n",
       "\n",
       "    .dataframe tbody tr th {\n",
       "        vertical-align: top;\n",
       "    }\n",
       "\n",
       "    .dataframe thead th {\n",
       "        text-align: right;\n",
       "    }\n",
       "</style>\n",
       "<table border=\"1\" class=\"dataframe\">\n",
       "  <thead>\n",
       "    <tr style=\"text-align: right;\">\n",
       "      <th></th>\n",
       "      <th>PREDICT</th>\n",
       "    </tr>\n",
       "  </thead>\n",
       "  <tbody>\n",
       "    <tr>\n",
       "      <th>0</th>\n",
       "      <td>thin</td>\n",
       "    </tr>\n",
       "    <tr>\n",
       "      <th>1</th>\n",
       "      <td>thin</td>\n",
       "    </tr>\n",
       "    <tr>\n",
       "      <th>2</th>\n",
       "      <td>fat</td>\n",
       "    </tr>\n",
       "    <tr>\n",
       "      <th>3</th>\n",
       "      <td>fat</td>\n",
       "    </tr>\n",
       "    <tr>\n",
       "      <th>4</th>\n",
       "      <td>fat</td>\n",
       "    </tr>\n",
       "  </tbody>\n",
       "</table>\n",
       "</div>"
      ],
      "text/plain": [
       "  PREDICT\n",
       "0    thin\n",
       "1    thin\n",
       "2     fat\n",
       "3     fat\n",
       "4     fat"
      ]
     },
     "execution_count": 9,
     "metadata": {},
     "output_type": "execute_result"
    }
   ],
   "source": [
    "# 데이터 학습하기 --- (※4)\n",
    "model = svm.SVC()   #svm 쓸꺼고, \n",
    "model.fit(train_data_feature, train_data_answer)  #모델안에 2개 주입시키는것. 과거에서 나온 답이 이거야! 라고 기계에게 학습시키는것!!\n",
    "\n",
    "# 데이터 예측하기 --- (※5)\n",
    "predict = pd.DataFrame(model.predict(test_data_feafure)) # model.predict 하면에측됨. feature값만 주고 예측. 예측이니 30%인 testdata로 예측\n",
    "print(predict.size)\n",
    "\n",
    "# 0이라는 컬럼에 들어가있는것. 컬럼명 바꿔주면 좋다\n",
    "predict.columns=[\"PREDICT\"]\n",
    "predict.head()\n",
    "# 6000개 data set 생긴것"
   ]
  },
  {
   "cell_type": "code",
   "execution_count": 10,
   "metadata": {
    "scrolled": true
   },
   "outputs": [
    {
     "data": {
      "text/html": [
       "<div>\n",
       "<style scoped>\n",
       "    .dataframe tbody tr th:only-of-type {\n",
       "        vertical-align: middle;\n",
       "    }\n",
       "\n",
       "    .dataframe tbody tr th {\n",
       "        vertical-align: top;\n",
       "    }\n",
       "\n",
       "    .dataframe thead th {\n",
       "        text-align: right;\n",
       "    }\n",
       "</style>\n",
       "<table border=\"1\" class=\"dataframe\">\n",
       "  <thead>\n",
       "    <tr style=\"text-align: right;\">\n",
       "      <th></th>\n",
       "      <th>weight</th>\n",
       "      <th>height</th>\n",
       "    </tr>\n",
       "  </thead>\n",
       "  <tbody>\n",
       "    <tr>\n",
       "      <th>516</th>\n",
       "      <td>0.52</td>\n",
       "      <td>0.910</td>\n",
       "    </tr>\n",
       "    <tr>\n",
       "      <th>4502</th>\n",
       "      <td>0.45</td>\n",
       "      <td>0.790</td>\n",
       "    </tr>\n",
       "    <tr>\n",
       "      <th>1839</th>\n",
       "      <td>0.64</td>\n",
       "      <td>0.795</td>\n",
       "    </tr>\n",
       "    <tr>\n",
       "      <th>4779</th>\n",
       "      <td>0.75</td>\n",
       "      <td>0.770</td>\n",
       "    </tr>\n",
       "    <tr>\n",
       "      <th>8165</th>\n",
       "      <td>0.73</td>\n",
       "      <td>0.605</td>\n",
       "    </tr>\n",
       "  </tbody>\n",
       "</table>\n",
       "</div>"
      ],
      "text/plain": [
       "      weight  height\n",
       "516     0.52   0.910\n",
       "4502    0.45   0.790\n",
       "1839    0.64   0.795\n",
       "4779    0.75   0.770\n",
       "8165    0.73   0.605"
      ]
     },
     "execution_count": 10,
     "metadata": {},
     "output_type": "execute_result"
    }
   ],
   "source": [
    "test_data_feafure.head()"
   ]
  },
  {
   "cell_type": "markdown",
   "metadata": {},
   "source": [
    "# 6. 결과 데이터셋 머지 및 저장"
   ]
  },
  {
   "cell_type": "code",
   "execution_count": 14,
   "metadata": {
    "scrolled": true
   },
   "outputs": [
    {
     "name": "stdout",
     "output_type": "stream",
     "text": [
      "6000\n",
      "   weight  height label PREDICT\n",
      "0    0.52   0.910  thin    thin\n",
      "1    0.45   0.790  thin    thin\n",
      "2    0.64   0.795   fat     fat\n",
      "3    0.75   0.770   fat     fat\n",
      "4    0.73   0.605   fat     fat\n"
     ]
    }
   ],
   "source": [
    "# train_data_feature, test_data_feafure, train_data_answer, test_data_answer\n",
    "\n",
    "# reset_index 하지않으면 정확하게 안붙는다. 정확하게 index행번호 삭제해주고, concat 시켜준다\n",
    "# pandas 특성? 이 그러니, index를 제거 해야함.\n",
    "r = pd.concat([test_data_feafure.reset_index(drop=True), test_data_answer.reset_index(drop=True), predict.reset_index(drop=True)], axis = 1)\n",
    "r.to_csv(\"d:/result.csv\") #결과값 나온다. 실제답지 label. predict 예측한 답! 6000개의 데이터셋 생성!\n",
    "# r.head()\n",
    "print(len(r))\n",
    "print(r.head())"
   ]
  },
  {
   "cell_type": "markdown",
   "metadata": {},
   "source": [
    "# 결과 테스트하기"
   ]
  },
  {
   "cell_type": "code",
   "execution_count": 15,
   "metadata": {
    "scrolled": true
   },
   "outputs": [
    {
     "name": "stdout",
     "output_type": "stream",
     "text": [
      "정답률 = 0.9865\n",
      "리포트 =\n",
      "              precision    recall  f1-score   support\n",
      "\n",
      "        fat       1.00      1.00      1.00      2306\n",
      "     normal       0.97      0.99      0.98      1767\n",
      "       thin       0.99      0.97      0.98      1927\n",
      "\n",
      "avg / total       0.99      0.99      0.99      6000\n",
      "\n"
     ]
    }
   ],
   "source": [
    "# 결과 테스트하기 --- (※6)\n",
    "ac_score = metrics.accuracy_score(test_data_answer, predict)\n",
    "cl_report = metrics.classification_report(test_data_answer, predict)\n",
    "\n",
    "print(\"정답률 =\", ac_score)\n",
    "print(\"리포트 =\\n\", cl_report)"
   ]
  },
  {
   "cell_type": "code",
   "execution_count": null,
   "metadata": {},
   "outputs": [],
   "source": [
    "# 돌릴때마다 결과가 조금씩 다름. 머신러닝이니까.."
   ]
  },
  {
   "cell_type": "code",
   "execution_count": 58,
   "metadata": {},
   "outputs": [
    {
     "name": "stdout",
     "output_type": "stream",
     "text": [
      "   height  weight   label\n",
      "0     140      45  normal\n",
      "1     145      72     fat\n",
      "2     150      61     fat\n",
      "3     137      56     fat\n",
      "4     192      48    thin\n",
      "0    normal\n",
      "1       fat\n",
      "2       fat\n",
      "Name: label, dtype: object\n",
      "0    0.45\n",
      "1    0.72\n",
      "2    0.61\n",
      "Name: weight, dtype: float64\n",
      "0    0.700\n",
      "1    0.725\n",
      "2    0.750\n",
      "Name: height, dtype: float64\n",
      "   weight  height\n",
      "0    0.45   0.700\n",
      "1    0.72   0.725\n",
      "2    0.61   0.750\n",
      "3    0.56   0.685\n",
      "4    0.48   0.960\n",
      "   weight  height\n",
      "0    0.45   0.700\n",
      "1    0.72   0.725\n",
      "2    0.61   0.750\n",
      "20000\n",
      "14000\n",
      "14000\n",
      "6000\n",
      "6000\n",
      "6000\n",
      "정답률 = 0.9855\n",
      "리포트 =\n",
      "              precision    recall  f1-score   support\n",
      "\n",
      "        fat       1.00      0.99      1.00      2297\n",
      "     normal       0.96      1.00      0.98      1787\n",
      "       thin       1.00      0.97      0.98      1916\n",
      "\n",
      "avg / total       0.99      0.99      0.99      6000\n",
      "\n"
     ]
    }
   ],
   "source": [
    "from sklearn import svm, metrics\n",
    "from sklearn.model_selection import train_test_split\n",
    "import matplotlib.pyplot as plt\n",
    "import pandas as pd\n",
    "# 키와 몸무게 데이터 읽어 들이기 --- (※1)\n",
    "tbl = pd.read_csv(\"../dataset/bmi.csv\")\n",
    "print(tbl.head())\n",
    "# 칼럼(열)을 자르고 정규화하기 --- (※2)\n",
    "label = tbl[\"label\"] #컬럼 label에 담기\n",
    "print(label.head(3))\n",
    "w = tbl[\"weight\"] / 100       # 최대 100kg라고 가정   #데이터마다 높낮이 (ex 0~1, 0~ 100, 0~ 1000 )다르니 /100 해준다 \n",
    "print(w.head(3))\n",
    "h = tbl[\"height\"] / 200     # 최대 200cm라고 가정\n",
    "print(h.head(3))\n",
    "wh = pd.concat([w, h] , axis=1) #feature다. 이걸로 예측할거다\n",
    "print(wh.head())\n",
    "\n",
    "data_train, data_test, label_train, label_test = train_test_split(wh, label, test_size = 0.3)\n",
    "print(wh.head(3) )\n",
    "print(len(wh) ) #len 문자열 길이\n",
    "print(len(data_train))\n",
    "print(len(label_train))\n",
    "print(len(data_test))\n",
    "print(len(label_test))\n",
    "data_test.to_csv(\"d:/test.csv\")\n",
    "\n",
    "model = svm.SVC()   #svm 쓸꺼고, \n",
    "model.fit(data_train, label_train)\n",
    "\n",
    "predict = pd.DataFrame(model.predict(data_test)) # model.predict 하면에측됨. feature값만 주고 예측. \n",
    "print(predict.size)\n",
    "predict.columns=[\"PREDICT\"]\n",
    "predict.head()\n",
    "\n",
    "r = pd.concat([data_test.reset_index(drop=True), label_test.reset_index(drop=True), predict.reset_index(drop=True)], axis = 1)\n",
    "r.to_csv(\"d:/result.csv\") #결과값 나온다. 실제답지 label. predict 예측한 답! 6000개의 데이터셋 생성!\n",
    "\n",
    "# 결과 테스트하기 --- (※6)\n",
    "ac_score = metrics.accuracy_score(label_test, predict)\n",
    "cl_report = metrics.classification_report(label_test, predict)\n",
    "\n",
    "print(\"정답률 =\", ac_score)\n",
    "print(\"리포트 =\\n\", cl_report)"
   ]
  }
 ],
 "metadata": {
  "kernelspec": {
   "display_name": "Python 3",
   "language": "python",
   "name": "python3"
  },
  "language_info": {
   "codemirror_mode": {
    "name": "ipython",
    "version": 3
   },
   "file_extension": ".py",
   "mimetype": "text/x-python",
   "name": "python",
   "nbconvert_exporter": "python",
   "pygments_lexer": "ipython3",
   "version": "3.6.4"
  }
 },
 "nbformat": 4,
 "nbformat_minor": 2
}
