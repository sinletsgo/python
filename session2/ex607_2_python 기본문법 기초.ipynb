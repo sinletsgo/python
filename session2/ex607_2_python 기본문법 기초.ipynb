{
 "cells": [
  {
   "cell_type": "markdown",
   "metadata": {},
   "source": [
    "라이브러리/변수 선언\n"
   ]
  },
  {
   "cell_type": "code",
   "execution_count": 77,
   "metadata": {},
   "outputs": [
    {
     "name": "stdout",
     "output_type": "stream",
     "text": [
      "2018-06-07 16:35:19.744537\n",
      "7\n"
     ]
    }
   ],
   "source": [
    "#시간계산 라이브러리 선언\n",
    "import datetime\n",
    "#now 변수에 현재시간 변수 담기\n",
    "now = datetime.datetime.now()\n",
    "#오늘날짜 변수담기 & 데이터 출력\n",
    "print(now)\n",
    "totay = now.day\n",
    "print(totay)"
   ]
  },
  {
   "cell_type": "markdown",
   "metadata": {},
   "source": [
    "###### numpy 라이브러리와 numpy의 linspace를 활용하여\n",
    "1,5 까지 11개의 숫자를 생성하세요\n"
   ]
  },
  {
   "cell_type": "code",
   "execution_count": 2,
   "metadata": {
    "scrolled": true
   },
   "outputs": [
    {
     "name": "stdout",
     "output_type": "stream",
     "text": [
      "[1.  1.4 1.8 2.2 2.6 3.  3.4 3.8 4.2 4.6 5. ]\n",
      "[ 1.    1.96  3.24  4.84  6.76  9.   11.56 14.44 17.64 21.16 25.  ]\n",
      "<class 'numpy.ndarray'>\n"
     ]
    },
    {
     "data": {
      "image/png": "[encoded data removed]",
      "text/plain": [
       "<matplotlib.figure.Figure at 0x5759860>"
      ]
     },
     "metadata": {},
     "output_type": "display_data"
    }
   ],
   "source": [
    "import matplotlib.pyplot as plt\n",
    "import numpy as np\n",
    "\n",
    "# %matplotlib inline   차트 시각화 정의. 원래는 주석처리하면 차트가 안그려져야 하는데..\n",
    "# plt.show를 해야 차트 보여주는데, matplotlib inline 해주면 차트를 그려준다는것\n",
    "\n",
    "x = np.linspace(1,5, 11) # 1, 5까지 11개의 숫자를 생성\n",
    "y = x ** 2 \n",
    "plt.plot(x,y)\n",
    "\n",
    "print(x)\n",
    "print(y)\n",
    "print(type(x))\n",
    "\n"
   ]
  },
  {
   "cell_type": "markdown",
   "metadata": {},
   "source": [
    "IF문"
   ]
  },
  {
   "cell_type": "markdown",
   "metadata": {},
   "source": [
    "SCORE  변수를 80으로 선언 후\n",
    "90점이상 A, 80~90점 B, 이외 C 점수로\n",
    "판단하는 조건문을 구현하세요"
   ]
  },
  {
   "cell_type": "code",
   "execution_count": 6,
   "metadata": {},
   "outputs": [
    {
     "name": "stdout",
     "output_type": "stream",
     "text": [
      "A\n"
     ]
    }
   ],
   "source": [
    "\n",
    "score  = 91;\n",
    "grade = \"\"\n",
    "if score >= 90:\n",
    "    grade = \"A\"\n",
    "elif score >= 80:\n",
    "    grade  = \"B\"\n",
    "else:\n",
    "    grade =\"C\"\n",
    "print(grade)\n",
    "\n",
    "\n"
   ]
  },
  {
   "cell_type": "markdown",
   "metadata": {},
   "source": [
    "python의 모토가 인생의 생각대로 code에 표현할 수 있게끔 하는것! 아래와 같은 code도 가능하지만, 사실 기존 방식에 익숙하기에, 잘 쓰진 않음"
   ]
  },
  {
   "cell_type": "code",
   "execution_count": 8,
   "metadata": {
    "scrolled": true
   },
   "outputs": [
    {
     "name": "stdout",
     "output_type": "stream",
     "text": [
      "B\n"
     ]
    }
   ],
   "source": [
    "score  = 75;\n",
    "grade = \"\"\n",
    "if score >= 90:\n",
    "    grade = \"A\"\n",
    "elif 70 < score <= 80: # python은 이런 code도 가능하다.\n",
    "    grade  = \"B\"\n",
    "else:\n",
    "    grade =\"C\"\n",
    "print(grade)"
   ]
  },
  {
   "cell_type": "markdown",
   "metadata": {},
   "source": [
    "for문"
   ]
  },
  {
   "cell_type": "code",
   "execution_count": 22,
   "metadata": {},
   "outputs": [
    {
     "name": "stdout",
     "output_type": "stream",
     "text": [
      "1\n",
      "4\n",
      "7\n",
      "10\n"
     ]
    }
   ],
   "source": [
    "for i in range(1, 11, 3): # 3씩 증가 시킬 수도 있다.\n",
    "    print(i)"
   ]
  },
  {
   "cell_type": "code",
   "execution_count": 19,
   "metadata": {},
   "outputs": [
    {
     "name": "stdout",
     "output_type": "stream",
     "text": [
      "2시작\n",
      "2 * 1 = 2\n",
      "2 * 2 = 4\n",
      "2 * 3 = 6\n",
      "2 * 4 = 8\n",
      "2 * 5 = 10\n",
      "2 * 6 = 12\n",
      "3시작\n",
      "3 * 1 = 3\n",
      "3 * 2 = 6\n",
      "3 * 3 = 9\n",
      "3 * 4 = 12\n",
      "3 * 5 = 15\n",
      "3 * 6 = 18\n",
      "4시작\n",
      "4 * 1 = 4\n",
      "4 * 2 = 8\n",
      "4 * 3 = 12\n",
      "4 * 4 = 16\n",
      "4 * 5 = 20\n",
      "4 * 6 = 24\n"
     ]
    }
   ],
   "source": [
    "for n in [2, 3, 4]:\n",
    "    print(\"{0} 시작\".format(n))\n",
    "    for i in [1,2,3,4,5,6]:\n",
    "        print(\"{} * {} = {}\".format(n, i, n*i))"
   ]
  },
  {
   "cell_type": "markdown",
   "metadata": {},
   "source": [
    "#### break, continue \n",
    "잘 써야 알고리즘 같은것 잘 풀 수 있다"
   ]
  },
  {
   "cell_type": "code",
   "execution_count": 78,
   "metadata": {
    "scrolled": true
   },
   "outputs": [
    {
     "name": "stdout",
     "output_type": "stream",
     "text": [
      "1 단 시작\n",
      "1 * 1 = 1\n",
      "1 * 2 = 2\n",
      "1 * 3 = 3\n",
      "1 * 4 = 4\n",
      "1 * 5 = 5\n",
      "2 단 시작\n",
      "2 * 1 = 2\n",
      "2 * 2 = 4\n",
      "2 * 3 = 6\n",
      "2 * 4 = 8\n",
      "2 * 5 = 10\n"
     ]
    }
   ],
   "source": [
    "for n in [1,2]:\n",
    "    print(\"{} 단 시작\".format(n))\n",
    "    for i in [1,2,3,4,5,6,7,8,9]:\n",
    "        if i > 5:  #5보다 안크면 조건 실행이 안된다. 5보다 커야만 break 되서 안찍는거지. 즉 6이 되야하는것\n",
    "            break\n",
    "        print(\"{0} * {1} = {2}\".format(n, i , n*i))\n",
    "        "
   ]
  },
  {
   "cell_type": "code",
   "execution_count": 32,
   "metadata": {
    "scrolled": true
   },
   "outputs": [
    {
     "name": "stdout",
     "output_type": "stream",
     "text": [
      "1단 시작\n",
      "1단 시작\n",
      "1 * 1 =  1 \n",
      "1 * 2 =  2 \n",
      "1 * 3 =  3 \n",
      "1 * 4 =  4 \n",
      "1 * 5 =  5 \n",
      "1 * 6 =  6 \n",
      "1 * 7 =  7 \n",
      "1 * 8 =  8 \n",
      "1 * 9 =  9 \n"
     ]
    }
   ],
   "source": [
    "\n",
    "for n in [1,2]:\n",
    "    if n%2 == 0:\n",
    "            continue\n",
    "    print(\"{0}단 시작\".format(n))\n",
    "    for i in [1,2,3,4,5,6,7,8,9]:\n",
    "        print(\"{0} * {1} =  {2} \".format(n, i, n*i))\n"
   ]
  },
  {
   "cell_type": "markdown",
   "metadata": {},
   "source": [
    "Dictionary {‘A01’ : 한국, ‘A02’ : 미국, ‘A03’ : 인도}\n",
    " 생성 후 key를 for루프를 활용하여\n",
    "출력하세요 \n"
   ]
  },
  {
   "cell_type": "code",
   "execution_count": 59,
   "metadata": {},
   "outputs": [
    {
     "name": "stdout",
     "output_type": "stream",
     "text": [
      "한국\n",
      "A01\n",
      "A02\n",
      "A03\n",
      "\n",
      "한국\n",
      "미국\n",
      "인도\n",
      "\n",
      "A01 한국\n",
      "A02 미국\n",
      "A03 인도\n",
      "('A01', '한국')\n",
      "('A02', '미국')\n",
      "('A03', '인도')\n"
     ]
    }
   ],
   "source": [
    "Dictionary  = { 'A01' : '한국', 'A02' : '미국', 'A03' : \"인도\"}\n",
    "# print(Dictionary.keys())\n",
    "print(Dictionary.get('A01'))\n",
    "\n",
    "# 키만 가져오기\n",
    "for key in Dictionary.keys():\n",
    "    print(key)\n",
    "print(\"\")\n",
    "\n",
    "# 값만 가져오기\n",
    "for value in Dictionary.values():\n",
    "    print(v alue)\n",
    "\n",
    "print(\"\")\n",
    "# 아이템 가져오기\n",
    "for key, value in Dictionary.items():\n",
    "    print(key, value)\n",
    "    \n",
    "for i in Dictionary.items():\n",
    "    print(i)\n",
    "    "
   ]
  },
  {
   "cell_type": "markdown",
   "metadata": {},
   "source": [
    "함수. 디폴트값 기본으로 줄 수도 있다."
   ]
  },
  {
   "cell_type": "code",
   "execution_count": 61,
   "metadata": {},
   "outputs": [
    {
     "name": "stdout",
     "output_type": "stream",
     "text": [
      "10\n",
      "60\n"
     ]
    }
   ],
   "source": [
    "# This function adds two numbers \n",
    "def add(x=50, y = 10): # 디폴트값도 설정\n",
    "    return x+ y\n",
    "a = 5\n",
    "b = 5\n",
    "answer = add(a,b)\n",
    "print(answer)\n",
    "Default = add()\n",
    "print(Default)\n"
   ]
  },
  {
   "cell_type": "markdown",
   "metadata": {},
   "source": [
    "## 람다 함수\n",
    "이름이 없는 한줄의 간단한 함수,\n",
    "프로그램 가독성 향상   "
   ]
  },
  {
   "cell_type": "code",
   "execution_count": 64,
   "metadata": {},
   "outputs": [
    {
     "data": {
      "text/plain": [
       "25"
      ]
     },
     "execution_count": 64,
     "metadata": {},
     "output_type": "execute_result"
    }
   ],
   "source": [
    "(lambda x, y: x*y)(5,5)"
   ]
  },
  {
   "cell_type": "markdown",
   "metadata": {},
   "source": [
    "input "
   ]
  },
  {
   "cell_type": "code",
   "execution_count": 66,
   "metadata": {},
   "outputs": [
    {
     "name": "stdout",
     "output_type": "stream",
     "text": [
      "이름을 입력하세요\n",
      "123\n"
     ]
    }
   ],
   "source": [
    "print(\"이름을 입력하세요\")\n",
    "name = input(\"\")"
   ]
  },
  {
   "cell_type": "code",
   "execution_count": null,
   "metadata": {},
   "outputs": [],
   "source": [
    "input 쓰이는 예로, 주가 데이터 팬다스 데이터프래임으로 불러오고, 원하는 주식종목을 치면 종목코드 리턴 받을 수 있는 것을 활용"
   ]
  },
  {
   "cell_type": "code",
   "execution_count": null,
   "metadata": {},
   "outputs": [],
   "source": []
  },
  {
   "cell_type": "markdown",
   "metadata": {},
   "source": [
    "사칙연산(+,-,*,/)을 할수 있는 함수를 생성한 후\n",
    "사용자의 변수를 2개 inputX, inputY를 입력받아 \n",
    "print문을 활용하여 더하기 예제를 출력하세요 "
   ]
  },
  {
   "cell_type": "code",
   "execution_count": 71,
   "metadata": {},
   "outputs": [
    {
     "name": "stdout",
     "output_type": "stream",
     "text": [
      "숫자를 입력하세요 \n",
      "5\n",
      "숫자를 입력하세요 \n",
      "5\n",
      "\n",
      "10\n",
      "0\n",
      "25\n",
      "1.0\n"
     ]
    }
   ],
   "source": [
    "def add (i , j):\n",
    "    return i + j\n",
    "def minus (i , j):\n",
    "    return i - j\n",
    "def mul (i , j):\n",
    "    return i * j\n",
    "def div (i , j):\n",
    "    return i / j\n",
    "\n",
    "print(\"숫자를 입력하세요 \")\n",
    "inputX = int(input())\n",
    "print(\"숫자를 입력하세요 \")\n",
    "inputY = int(input())\n",
    "\n",
    "print(\"\")\n",
    "print(add(inputX, inputY))\n",
    "print(minus(inputX, inputY))\n",
    "print(mul(inputX, inputY))\n",
    "print(div(inputX, inputY))"
   ]
  },
  {
   "cell_type": "code",
   "execution_count": null,
   "metadata": {},
   "outputs": [],
   "source": []
  },
  {
   "cell_type": "code",
   "execution_count": null,
   "metadata": {},
   "outputs": [],
   "source": []
  },
  {
   "cell_type": "code",
   "execution_count": null,
   "metadata": {},
   "outputs": [],
   "source": []
  },
  {
   "cell_type": "code",
   "execution_count": null,
   "metadata": {},
   "outputs": [],
   "source": []
  }
 ],
 "metadata": {
  "kernelspec": {
   "display_name": "Python 3",
   "language": "python",
   "name": "python3"
  },
  "language_info": {
   "codemirror_mode": {
    "name": "ipython",
    "version": 3
   },
   "file_extension": ".py",
   "mimetype": "text/x-python",
   "name": "python",
   "nbconvert_exporter": "python",
   "pygments_lexer": "ipython3",
   "version": "3.6.4"
  }
 },
 "nbformat": 4,
 "nbformat_minor": 2
}
